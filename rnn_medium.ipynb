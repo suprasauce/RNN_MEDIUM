{
 "cells": [
  {
   "cell_type": "code",
   "execution_count": 17,
   "metadata": {
    "id": "77QPN6ApcbXX"
   },
   "outputs": [],
   "source": [
    "import numpy as np\n",
    "from tqdm import tqdm\n",
    "from urllib import request\n",
    "import gzip\n",
    "import pickle\n",
    "import matplotlib.pyplot as plt"
   ]
  },
  {
   "cell_type": "code",
   "execution_count": 18,
   "metadata": {
    "id": "NLBEaIFt1mYW"
   },
   "outputs": [
    {
     "name": "stdout",
     "output_type": "stream",
     "text": [
      "Downloading train-images-idx3-ubyte.gz...\n",
      "Downloading t10k-images-idx3-ubyte.gz...\n",
      "Downloading train-labels-idx1-ubyte.gz...\n",
      "Downloading t10k-labels-idx1-ubyte.gz...\n",
      "Download complete.\n",
      "Save complete.\n"
     ]
    }
   ],
   "source": [
    "'''\n",
    "Code for downloading MNIST handwritten digit dataset.\n",
    "Ref: https://github.com/hsjeong5/MNIST-for-Numpy/blob/master/mnist.py\n",
    "'''\n",
    "\n",
    "filename = [\n",
    "[\"training_images\",\"train-images-idx3-ubyte.gz\"],\n",
    "[\"test_images\",\"t10k-images-idx3-ubyte.gz\"],\n",
    "[\"training_labels\",\"train-labels-idx1-ubyte.gz\"],\n",
    "[\"test_labels\",\"t10k-labels-idx1-ubyte.gz\"]\n",
    "]\n",
    "\n",
    "def download_mnist():\n",
    "    base_url = \"http://yann.lecun.com/exdb/mnist/\"\n",
    "    for name in filename:\n",
    "        print(\"Downloading \"+name[1]+\"...\")\n",
    "        request.urlretrieve(base_url+name[1], name[1])\n",
    "    print(\"Download complete.\")\n",
    "\n",
    "def save_mnist():\n",
    "    mnist = {}\n",
    "    for name in filename[:2]:\n",
    "        with gzip.open(name[1], 'rb') as f:\n",
    "            mnist[name[0]] = np.frombuffer(f.read(), np.uint8, offset=16).reshape(-1,28*28)\n",
    "    for name in filename[-2:]:\n",
    "        with gzip.open(name[1], 'rb') as f:\n",
    "            mnist[name[0]] = np.frombuffer(f.read(), np.uint8, offset=8)\n",
    "    with open(\"mnist.pkl\", 'wb') as f:\n",
    "        pickle.dump(mnist,f)\n",
    "    print(\"Save complete.\")\n",
    "\n",
    "def init():\n",
    "    download_mnist()\n",
    "    save_mnist()\n",
    "\n",
    "def load():\n",
    "    with open(\"mnist.pkl\",'rb') as f:\n",
    "        mnist = pickle.load(f)\n",
    "    return mnist[\"training_images\"], mnist[\"training_labels\"], mnist[\"test_images\"], mnist[\"test_labels\"]\n",
    "\n",
    "init()"
   ]
  },
  {
   "cell_type": "code",
   "execution_count": 19,
   "metadata": {
    "id": "FhyX7udEdRCH"
   },
   "outputs": [],
   "source": [
    "class rnn:\n",
    "  def __init__(self, input_nodes, hidden_nodes, output_nodes):\n",
    "    # since the dataset contains only 2 distinct values {0, 1}\n",
    "    self.input_nodes = input_nodes\n",
    "     # I like two\n",
    "    self.hidden_nodes = hidden_nodes\n",
    "    # I am not explaining this\n",
    "    self.output_nodes = output_nodes\n",
    "    # weights connecting input to hidden layer\n",
    "    self.hi = np.random.randn(self.hidden_nodes, self.input_nodes)*0.1\n",
    "    # weights connecting hidden to hidden layer, the recurrent connection\n",
    "    self.hh = np.random.randn(self.hidden_nodes, self.hidden_nodes)*0.1\n",
    "    # weights connecting hidden to output layer\n",
    "    self.oh = np.random.randn(self.output_nodes, self.hidden_nodes)*0.1\n",
    "    # hidden layer bias\n",
    "    self.b1 = np.zeros((self.hidden_nodes, ))\n",
    "    # output layer bias\n",
    "    self.b2 = np.zeros((self.output_nodes, ))\n",
    "\n",
    "  '''\n",
    "  X: 2d numpy array of shape (no. of examples in dataset, input nodes)\n",
    "  H_prev: prev timestep hidden state values\n",
    "  h: 2d numpy array of shape (no. of examples in dataset, hidden nodes)\n",
    "  o: 2d numpy array of shape (no. of examples in dataset, output nodes)\n",
    "  '''\n",
    "  def forward(self, X, H_prev):\n",
    "    h = np.matmul(X, self.hi.T) + np.matmul(H_prev, self.hh.T) + self.b1\n",
    "    h = np.tanh(h)\n",
    "    o = np.matmul(h, self.oh.T) + self.b2\n",
    "    o = 1 / (1 + np.exp(-o)) # sigmoid of o\n",
    "    return h, o\n",
    "\n",
    "  def error(self, Y, O):\n",
    "    N = O.shape[1] # number of examples\n",
    "    err = ((Y - O[-1])**2).sum()/ N\n",
    "    return err\n",
    "\n",
    "  def backward(self, T, X, Y, O, H):\n",
    "    N = O.shape[1] # number of examples\n",
    "    delta = np.zeros((N, self.hidden_nodes)) # (number of examples, hidden nodes)\n",
    "\n",
    "    delta = -2*(Y - O[T-1])*O[T-1]*(1 - O[T-1]) # (number of examples, output nodes)\n",
    "    self.doh += np.matmul(delta.T, H[T-1])/ N\n",
    "    self.db2 += delta.T.sum(axis = 1)/ N\n",
    "    delta = np.matmul(delta, self.oh) # (number of examples, hidden nodes)\n",
    "    \n",
    "    for t in range(T-1, -1, -1):\n",
    "      delta *= (1 - H[t]**2)\n",
    "      self.dhh += np.matmul(delta.T, H[t-1])/ N\n",
    "      self.dhi += np.matmul(delta.T, X[t]) / N\n",
    "      self.db1 += delta.T.sum(axis = 1)/ N\n",
    "\n",
    "      delta = np.matmul(delta, self.hh) # (number of examples, hidden nodes)\n",
    "\n",
    "  def clip_gradients(self):\n",
    "    self.doh.clip(-1, 1, out = self.doh)\n",
    "    self.dhh.clip(-1, 1, out = self.dhh)\n",
    "    self.dhi.clip(-1, 1, out = self.dhi)\n",
    "    self.db1.clip(-1, 1, out = self.db1)\n",
    "    self.db2.clip(-1, 1, out = self.db2)\n",
    "\n",
    "  def zero_gradients(self):\n",
    "    self.doh = np.zeros((self.output_nodes, self.hidden_nodes))\n",
    "    self.dhh = np.zeros((self.hidden_nodes, self.hidden_nodes))\n",
    "    self.dhi = np.zeros((self.hidden_nodes, self.input_nodes))\n",
    "    self.db1 = np.zeros((self.hidden_nodes, ))\n",
    "    self.db2 = np.zeros((self.output_nodes, ))\n",
    "\n",
    "  def update_parameters(self, alpha):\n",
    "    self.oh -= (alpha*self.doh)\n",
    "    self.hh -= (alpha*self.dhh)\n",
    "    self.hi -= (alpha*self.dhi)\n",
    "    self.b1 -= (alpha*self.db1)\n",
    "    self.b2 -= (alpha*self.db2)"
   ]
  },
  {
   "cell_type": "code",
   "execution_count": 20,
   "metadata": {
    "id": "BahbXBkX3VMK"
   },
   "outputs": [
    {
     "name": "stderr",
     "output_type": "stream",
     "text": [
      "Epoch: 0, Batch: 999, loss: 0.6: 100%|████████████████████████████████████████████████████████████████████████████████████████████████████████████████████████████| 1000/1000 [01:59<00:00,  8.40batches/s]\n"
     ]
    },
    {
     "name": "stdout",
     "output_type": "stream",
     "text": [
      "Error after epoch 0: 0.785983389043887\n"
     ]
    },
    {
     "name": "stderr",
     "output_type": "stream",
     "text": [
      "Epoch: 1, Batch: 999, loss: 0.41: 100%|███████████████████████████████████████████████████████████████████████████████████████████████████████████████████████████| 1000/1000 [01:58<00:00,  8.44batches/s]\n"
     ]
    },
    {
     "name": "stdout",
     "output_type": "stream",
     "text": [
      "Error after epoch 1: 0.49729095729888495\n"
     ]
    },
    {
     "name": "stderr",
     "output_type": "stream",
     "text": [
      "Epoch: 2, Batch: 999, loss: 0.31: 100%|███████████████████████████████████████████████████████████████████████████████████████████████████████████████████████████| 1000/1000 [01:55<00:00,  8.67batches/s]\n"
     ]
    },
    {
     "name": "stdout",
     "output_type": "stream",
     "text": [
      "Error after epoch 2: 0.36229695064298906\n"
     ]
    },
    {
     "name": "stderr",
     "output_type": "stream",
     "text": [
      "Epoch: 3, Batch: 999, loss: 0.19: 100%|███████████████████████████████████████████████████████████████████████████████████████████████████████████████████████████| 1000/1000 [01:40<00:00,  9.92batches/s]\n"
     ]
    },
    {
     "name": "stdout",
     "output_type": "stream",
     "text": [
      "Error after epoch 3: 0.2837609988385493\n"
     ]
    },
    {
     "name": "stderr",
     "output_type": "stream",
     "text": [
      "Epoch: 4, Batch: 999, loss: 0.19: 100%|███████████████████████████████████████████████████████████████████████████████████████████████████████████████████████████| 1000/1000 [01:44<00:00,  9.60batches/s]\n"
     ]
    },
    {
     "name": "stdout",
     "output_type": "stream",
     "text": [
      "Error after epoch 4: 0.2351199749693515\n"
     ]
    },
    {
     "name": "stderr",
     "output_type": "stream",
     "text": [
      "Epoch: 5, Batch: 999, loss: 0.15: 100%|███████████████████████████████████████████████████████████████████████████████████████████████████████████████████████████| 1000/1000 [01:49<00:00,  9.15batches/s]\n"
     ]
    },
    {
     "name": "stdout",
     "output_type": "stream",
     "text": [
      "Error after epoch 5: 0.20335209859894418\n"
     ]
    },
    {
     "name": "stderr",
     "output_type": "stream",
     "text": [
      "Epoch: 6, Batch: 999, loss: 0.17: 100%|███████████████████████████████████████████████████████████████████████████████████████████████████████████████████████████| 1000/1000 [01:52<00:00,  8.86batches/s]\n"
     ]
    },
    {
     "name": "stdout",
     "output_type": "stream",
     "text": [
      "Error after epoch 6: 0.18084091638305688\n"
     ]
    },
    {
     "name": "stderr",
     "output_type": "stream",
     "text": [
      "Epoch: 7, Batch: 999, loss: 0.13: 100%|███████████████████████████████████████████████████████████████████████████████████████████████████████████████████████████| 1000/1000 [01:53<00:00,  8.84batches/s]\n"
     ]
    },
    {
     "name": "stdout",
     "output_type": "stream",
     "text": [
      "Error after epoch 7: 0.16419402979162745\n"
     ]
    },
    {
     "name": "stderr",
     "output_type": "stream",
     "text": [
      "Epoch: 8, Batch: 999, loss: 0.14: 100%|███████████████████████████████████████████████████████████████████████████████████████████████████████████████████████████| 1000/1000 [01:54<00:00,  8.76batches/s]\n"
     ]
    },
    {
     "name": "stdout",
     "output_type": "stream",
     "text": [
      "Error after epoch 8: 0.15138173637084124\n"
     ]
    },
    {
     "name": "stderr",
     "output_type": "stream",
     "text": [
      "Epoch: 9, Batch: 999, loss: 0.17: 100%|███████████████████████████████████████████████████████████████████████████████████████████████████████████████████████████| 1000/1000 [01:53<00:00,  8.83batches/s]\n"
     ]
    },
    {
     "name": "stdout",
     "output_type": "stream",
     "text": [
      "Error after epoch 9: 0.14103868793836424\n"
     ]
    },
    {
     "name": "stderr",
     "output_type": "stream",
     "text": [
      "Epoch: 10, Batch: 999, loss: 0.16: 100%|██████████████████████████████████████████████████████████████████████████████████████████████████████████████████████████| 1000/1000 [01:53<00:00,  8.80batches/s]\n"
     ]
    },
    {
     "name": "stdout",
     "output_type": "stream",
     "text": [
      "Error after epoch 10: 0.13266005392821492\n"
     ]
    },
    {
     "name": "stderr",
     "output_type": "stream",
     "text": [
      "Epoch: 11, Batch: 999, loss: 0.1: 100%|███████████████████████████████████████████████████████████████████████████████████████████████████████████████████████████| 1000/1000 [02:06<00:00,  7.90batches/s]\n"
     ]
    },
    {
     "name": "stdout",
     "output_type": "stream",
     "text": [
      "Error after epoch 11: 0.12554477187117763\n"
     ]
    },
    {
     "name": "stderr",
     "output_type": "stream",
     "text": [
      "Epoch: 12, Batch: 999, loss: 0.09: 100%|██████████████████████████████████████████████████████████████████████████████████████████████████████████████████████████| 1000/1000 [02:04<00:00,  8.01batches/s]\n"
     ]
    },
    {
     "name": "stdout",
     "output_type": "stream",
     "text": [
      "Error after epoch 12: 0.11925362625124247\n"
     ]
    },
    {
     "name": "stderr",
     "output_type": "stream",
     "text": [
      "Epoch: 13, Batch: 999, loss: 0.12: 100%|██████████████████████████████████████████████████████████████████████████████████████████████████████████████████████████| 1000/1000 [01:58<00:00,  8.41batches/s]\n"
     ]
    },
    {
     "name": "stdout",
     "output_type": "stream",
     "text": [
      "Error after epoch 13: 0.11370946405124803\n"
     ]
    },
    {
     "name": "stderr",
     "output_type": "stream",
     "text": [
      "Epoch: 14, Batch: 999, loss: 0.16: 100%|██████████████████████████████████████████████████████████████████████████████████████████████████████████████████████████| 1000/1000 [01:57<00:00,  8.53batches/s]"
     ]
    },
    {
     "name": "stdout",
     "output_type": "stream",
     "text": [
      "Error after epoch 14: 0.10912254921626438\n"
     ]
    },
    {
     "name": "stderr",
     "output_type": "stream",
     "text": [
      "\n"
     ]
    }
   ],
   "source": [
    "'''\n",
    "Training the model\n",
    "'''\n",
    "\n",
    "T = 28 # time steps\n",
    "x_train, y_train, x_test, y_test = load()\n",
    "N = 60000 # no. of training examples\n",
    "N_TEST = 10000 # no. of testing examples\n",
    "\n",
    "INPUT_NODES = 28\n",
    "OUTPUT_NODES = 10\n",
    "HIDDEN_NODES = 256\n",
    "\n",
    "BATCH_SIZE = 60\n",
    "BATCHES = int(N/BATCH_SIZE)\n",
    "\n",
    "if __name__ == \"__main__\":\n",
    "    # dataset preparation\n",
    "    X = x_train[:N].reshape(N, T, INPUT_NODES)/ 255\n",
    "    Y = np.zeros((N, OUTPUT_NODES))\n",
    "    for i in range(N):\n",
    "        temp = np.zeros((OUTPUT_NODES, ))\n",
    "        temp[y_train[i]] = 1\n",
    "        Y[i] = temp\n",
    "    \n",
    "    model = rnn(INPUT_NODES, HIDDEN_NODES, OUTPUT_NODES)\n",
    "    \n",
    "#---------------TRAINING THE MODEL---------------------------------------------------------------\n",
    "    EPOCHS = 15\n",
    "    ALPHA = 0.001\n",
    "    training_loss = []\n",
    "    \n",
    "    for epoch in range(EPOCHS):\n",
    "        # shuffle the examples\n",
    "        perm = np.random.permutation(len(X))\n",
    "        X = X[perm]\n",
    "        Y = Y[perm]\n",
    "        \n",
    "        loss = 0.\n",
    "        pbar = tqdm(range(BATCHES), unit = \"batches\")\n",
    "        \n",
    "        for batch in pbar:\n",
    "            H = np.zeros((T+1, BATCH_SIZE, model.hidden_nodes))\n",
    "            O = np.zeros((T, BATCH_SIZE, model.output_nodes))\n",
    "\n",
    "            X_B = X[batch*BATCH_SIZE:batch*BATCH_SIZE + BATCH_SIZE].transpose(1,0,2)\n",
    "            Y_B = Y[batch*BATCH_SIZE:batch*BATCH_SIZE + BATCH_SIZE]\n",
    "            \n",
    "            for t in range(T):\n",
    "                H[t], O[t] = model.forward(X_B[t], H[t-1])\n",
    "\n",
    "            # ensure gradients are initialised to zero\n",
    "            model.zero_gradients()\n",
    "        \n",
    "            # compute gradients\n",
    "            model.backward(T, X_B, Y_B, O, H)\n",
    "        \n",
    "            # clip the gradients before clipping\n",
    "            model.clip_gradients()\n",
    "        \n",
    "            # update parameters\n",
    "            model.update_parameters(ALPHA)\n",
    "\n",
    "            curr_batch_loss = model.error(Y_B, O)\n",
    "            pbar.set_description(f\"Epoch: {epoch}, Batch: {batch}, loss: {round(curr_batch_loss, 2)}\")\n",
    "            \n",
    "            loss += curr_batch_loss/ BATCHES\n",
    "\n",
    "        print(f\"Error after epoch {epoch}: {loss}\")\n",
    "        training_loss.append(loss)\n",
    "    \n",
    "    pickle.dump(training_loss, open(\"training_loss.pkl\", \"wb\"))\n",
    "    pickle.dump(model, open(\"model.pkl\", \"wb\"))\n",
    "\n",
    "  #----------------------------------------------------------------------------------------------"
   ]
  },
  {
   "cell_type": "code",
   "execution_count": 21,
   "metadata": {},
   "outputs": [
    {
     "data": {
      "image/png": "[encoded data removed]",
      "text/plain": [
       "<Figure size 640x480 with 1 Axes>"
      ]
     },
     "metadata": {},
     "output_type": "display_data"
    }
   ],
   "source": [
    "'''\n",
    "plotting training loss vs epochs\n",
    "'''\n",
    "training_loss = pickle.load(open(\"training_loss.pkl\", \"rb\"))\n",
    "training_loss = [round(x, 3) for x in training_loss]\n",
    "epochs = np.arange(0, EPOCHS) + 1\n",
    "plt.plot(epochs, training_loss, label = \"training loss\")\n",
    "plt.xlabel(\"Epochs\")\n",
    "plt.ylabel(\"Training loss\")\n",
    "plt.savefig('plot.png')\n",
    "plt.show()"
   ]
  },
  {
   "cell_type": "code",
   "execution_count": 23,
   "metadata": {
    "id": "KZ67bWK1F_6H"
   },
   "outputs": [
    {
     "name": "stderr",
     "output_type": "stream",
     "text": [
      "Running forward pass..: 100%|██████████████████████████████████████████████████████████████████████████████████████████████████████████████████████████████████████████████| 28/28 [00:08<00:00,  3.26it/s]"
     ]
    },
    {
     "name": "stdout",
     "output_type": "stream",
     "text": [
      "Test Accuracy: 93.7\n"
     ]
    },
    {
     "name": "stderr",
     "output_type": "stream",
     "text": [
      "\n"
     ]
    }
   ],
   "source": [
    "'''\n",
    "Testing the model\n",
    "'''\n",
    "\n",
    "model = pickle.load(open(\"model.pkl\", \"rb\"))\n",
    "# dataset preparation\n",
    "X_TEST = x_test[:N_TEST].reshape(N_TEST, T, INPUT_NODES)/ 255\n",
    "X_TEST = X_TEST.transpose(1, 0, 2)\n",
    "Y_TEST = y_test[:N_TEST].T\n",
    "\n",
    "H_TEST = np.zeros((T+1, N_TEST, model.hidden_nodes))\n",
    "O_TEST = np.zeros((T, N_TEST, model.output_nodes))\n",
    "\n",
    "for t in tqdm(range(T), desc = f\"Running forward pass..\"):\n",
    "    H_TEST[t], O_TEST[t] = model.forward(X_TEST[t], H_TEST[t-1])\n",
    "\n",
    "correct_ans = (np.argmax(O_TEST[-1], axis = 1) == Y_TEST).sum()\n",
    "accuracy = (correct_ans/ N_TEST) * 100\n",
    "print(f\"Test Accuracy: {accuracy}\")"
   ]
  }
 ],
 "metadata": {
  "colab": {
   "provenance": []
  },
  "kernelspec": {
   "display_name": "Python 3 (ipykernel)",
   "language": "python",
   "name": "python3"
  },
  "language_info": {
   "codemirror_mode": {
    "name": "ipython",
    "version": 3
   },
   "file_extension": ".py",
   "mimetype": "text/x-python",
   "name": "python",
   "nbconvert_exporter": "python",
   "pygments_lexer": "ipython3",
   "version": "3.8.10"
  }
 },
 "nbformat": 4,
 "nbformat_minor": 4
}
